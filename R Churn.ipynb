{
 "cells": [
  {
   "cell_type": "code",
   "execution_count": null,
   "metadata": {},
   "outputs": [],
   "source": [
    "#Install or call required packages\n",
    "install.packages('mlbench')\n",
    "install.packages('MASS')\n",
    "install.packages('pROC')\n",
    "install.packages('mlbench')\n",
    "library(dplyr)"
   ]
  },
  {
   "cell_type": "code",
   "execution_count": null,
   "metadata": {},
   "outputs": [],
   "source": [
    "#Read data\n",
    "Churn <- read.csv(\"~/Churn_Train.csv\")\n",
    "View(Churn)"
   ]
  },
  {
   "cell_type": "code",
   "execution_count": null,
   "metadata": {},
   "outputs": [],
   "source": [
    "#Replace any negative values with NA \n",
    "Churn$account_length <- replace(Churn$account_length, which(Churn$account_length < 0), NA)\n",
    "Churn$number_vmail_messages <- replace(Churn$number_vmail_messages, which(Churn$number_vmail_messages < 0), NA)"
   ]
  },
  {
   "cell_type": "code",
   "execution_count": null,
   "metadata": {},
   "outputs": [],
   "source": [
    "#Remove any entries where there are 3 or less values in the row. These entries are too incomplete \n",
    "#to use.\n",
    "Churn <- Churn[rowSums(is.na(Churn)) < 3, ]"
   ]
  },
  {
   "cell_type": "code",
   "execution_count": null,
   "metadata": {},
   "outputs": [],
   "source": [
    "#Replace remaining NA values with column mean.\n",
    "for (i in 1:ncol(Churn)) {\n",
    "    na<-which(is.na(Churn[,i]),)\n",
    "    if (length(na)!=0) {\n",
    "    Churn[na,i]<-mean(Churn[,i],na.rm = T)}}"
   ]
  },
  {
   "cell_type": "code",
   "execution_count": null,
   "metadata": {},
   "outputs": [],
   "source": [
    "#Create dataframe of numeric value columns to check data distribution with histograms\n",
    "df <- data.frame(Churn$account_length, Churn$total_day_minutes, Churn$total_day_calls,\n",
    "                Churn$total_day_charge, Churn$total_eve_minutes, Churn$total_eve_calls,\n",
    "                Churn$total_eve_charge, Churn$total_night_minutes, Churn$total_night_calls,\n",
    "                Churn$total_night_charge, Churn$total_intl_minutes, Churn$total_intl_calls,\n",
    "                Churn$total_intl_charge, Churn$number_customer_service_calls)"
   ]
  },
  {
   "cell_type": "code",
   "execution_count": null,
   "metadata": {},
   "outputs": [],
   "source": [
    "#Evaluate data distribution of columns\n",
    "hist.data.frame(df)"
   ]
  },
  {
   "cell_type": "code",
   "execution_count": null,
   "metadata": {},
   "outputs": [],
   "source": [
    "#Recode values of churn, international_plan, area_code and vm to binerize\n",
    "Churn <- Churn%>%\n",
    "mutate(churn=recode(churn, \"yes\" = \"1\", \"no\" = \"0\"))\n",
    "\n",
    "Churn <- Churn%>%\n",
    "mutate(international_plan=recode(international_plan, \"yes\" = \"1\", \"no\" = \"0\"))\n",
    "\n",
    "Churn <- Churn%>%\n",
    "mutate(voice_mail_plan=recode(voice_mail_plan, \"yes\" = \"1\", \"no\" = \"0\"))\n",
    "\n",
    "Churn <- Churn%>%\n",
    "mutate(area_code=recode(area_code, \"area_code_510\" = \"0\", \"area_code_415\" = \"1\",\n",
    "                       \"area_code_408\" = \"2\"))"
   ]
  },
  {
   "cell_type": "code",
   "execution_count": null,
   "metadata": {},
   "outputs": [],
   "source": [
    "#Change newly binarized columns to numeric values\n",
    "Churn[, c(3:5,20)] <- sapply(Churn[, c(3:5,20)], as.numeric)"
   ]
  },
  {
   "cell_type": "code",
   "execution_count": null,
   "metadata": {},
   "outputs": [],
   "source": [
    "#Load prediction data\n",
    "load(\"~/Downloads/Customers_To_Predict.RData\")\n",
    "View(Customers_To_Predict)"
   ]
  },
  {
   "cell_type": "code",
   "execution_count": null,
   "metadata": {},
   "outputs": [],
   "source": [
    "#Preprocess data by binerizing values to match previous data\n",
    "Customers_To_Predict <- Customers_To_Predict%>%\n",
    "mutate(international_plan=recode(international_plan, \"yes\" = \"1\", \"no\" = \"0\"))\n",
    "\n",
    "Customers_To_Predict <- Customers_To_Predict%>%\n",
    "mutate(voice_mail_plan=recode(voice_mail_plan, \"yes\" = \"1\", \"no\" = \"0\"))\n",
    "\n",
    "Customers_To_Predict <- Customers_To_Predict%>%\n",
    "mutate(area_code=recode(area_code, \"area_code_510\" = \"0\", \"area_code_415\" = \"1\",\n",
    "                       \"area_code_408\" = \"2\"))"
   ]
  },
  {
   "cell_type": "code",
   "execution_count": null,
   "metadata": {},
   "outputs": [],
   "source": [
    "#Change columns that were binarized to numeric\n",
    "Customers_To_Predict[, c(3:5)] <- sapply(Customers_To_Predict[, c(3:5)], as.numeric)"
   ]
  },
  {
   "cell_type": "code",
   "execution_count": null,
   "metadata": {},
   "outputs": [],
   "source": [
    "#Create descision tree model, review summary metrics.\n",
    "Mod1 <- rpart(churn~.,data=Churn,cp=0)\n",
    "summary(Mod1)"
   ]
  },
  {
   "cell_type": "code",
   "execution_count": null,
   "metadata": {},
   "outputs": [],
   "source": [
    "# Table of results\n",
    "table(predict(Mod1,type='class'),Churn$churn)"
   ]
  },
  {
   "cell_type": "code",
   "execution_count": null,
   "metadata": {},
   "outputs": [],
   "source": [
    "# Predict the new data from the Customers To Predict file; write a file to R directory of predictions\n",
    "pred <- predict(Mod1, Customers_To_Predict)\n",
    "write.csv(pred, 'results.csv')"
   ]
  }
 ],
 "metadata": {
  "kernelspec": {
   "display_name": "Python 3",
   "language": "python",
   "name": "python3"
  },
  "language_info": {
   "codemirror_mode": {
    "name": "ipython",
    "version": 3
   },
   "file_extension": ".py",
   "mimetype": "text/x-python",
   "name": "python",
   "nbconvert_exporter": "python",
   "pygments_lexer": "ipython3",
   "version": "3.8.5"
  }
 },
 "nbformat": 4,
 "nbformat_minor": 4
}
